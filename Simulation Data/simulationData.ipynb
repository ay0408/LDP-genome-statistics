{
 "cells": [
  {
   "cell_type": "code",
   "execution_count": 1,
   "metadata": {},
   "outputs": [],
   "source": [
    "import numpy as np\n",
    "import math\n",
    "from scipy import integrate\n",
    "import matplotlib.pyplot as plt\n",
    "import random\n",
    "import time"
   ]
  },
  {
   "cell_type": "code",
   "execution_count": 2,
   "metadata": {},
   "outputs": [],
   "source": [
    "def table22(data):\n",
    "    table = np.zeros(4)\n",
    "    \n",
    "    for i in range(len(data)):\n",
    "        table[int(data[i])] += 1\n",
    "        \n",
    "    return table\n",
    "\n",
    "def chi22(table):\n",
    "    a = table[0]; b = table[1]; c = table[2]; d = table[3]\n",
    "    \n",
    "    if a+b == 0 or c+d == 0:\n",
    "        T = 0\n",
    "    else:\n",
    "        T = ((a-b)**2)/(a+b) + ((c-d)**2)/(c+d)\n",
    "    \n",
    "    return T"
   ]
  },
  {
   "cell_type": "code",
   "execution_count": 3,
   "metadata": {},
   "outputs": [],
   "source": [
    "def generateData(N):\n",
    "    gp = np.zeros((N,2))\n",
    "    \n",
    "    for i in range(N):\n",
    "        gp[i][0] = random.randint(0,2)\n",
    "        gp[i][1] = random.randint(0,1)\n",
    "        \n",
    "    data22 = np.zeros(2*N)\n",
    "\n",
    "    for i in range(N):\n",
    "        if gp[i][0] == 0 and gp[i][1] == 0:\n",
    "            data22[int(2*i)] = 0; data22[int(2*i)+1] = 0\n",
    "        elif gp[i][0] == 0 and gp[i][1] == 1:\n",
    "            data22[int(2*i)] = 1; data22[int(2*i)+1] = 1\n",
    "        elif gp[i][0] == 1 and gp[i][1] == 0:\n",
    "            data22[int(2*i)] = 0; data22[int(2*i)+1] = 2\n",
    "        elif gp[i][0] == 1 and gp[i][1] == 1:\n",
    "            data22[int(2*i)] = 1; data22[int(2*i)+1] = 3\n",
    "        elif gp[i][0] == 2 and gp[i][1] == 0:\n",
    "            data22[int(2*i)] = 2; data22[int(2*i)+1] = 2\n",
    "        else:\n",
    "            data22[int(2*i)] = 3; data22[int(2*i)+1] = 3\n",
    "    \n",
    "    return data22"
   ]
  },
  {
   "cell_type": "code",
   "execution_count": 4,
   "metadata": {},
   "outputs": [],
   "source": [
    "N = 1000; M = 100\n",
    "stats22 = np.zeros(M)\n",
    "\n",
    "for i in range(M):\n",
    "    data = generateData(N)\n",
    "    stats22[i] = chi22(table22(data))\n",
    "\n",
    "sstats22 = sorted(stats22, reverse=True)"
   ]
  },
  {
   "cell_type": "code",
   "execution_count": 5,
   "metadata": {},
   "outputs": [
    {
     "data": {
      "image/png": "[encoded data removed]",
      "text/plain": [
       "<Figure size 432x288 with 1 Axes>"
      ]
     },
     "metadata": {
      "needs_background": "light"
     },
     "output_type": "display_data"
    }
   ],
   "source": [
    "index = np.zeros(M)\n",
    "for i in range(M):\n",
    "    index[i] = i\n",
    "\n",
    "fig = plt.figure()\n",
    "plt.ylim(-0.3, np.max(sstats22)+2)\n",
    "plt.xlim(-1, 101)\n",
    "plt.plot(index, sstats22, marker=\"o\", markersize=5, color = \"blue\", linestyle = \"-\")\n",
    "plt.xlabel(\"SNPs\", fontsize = 18)\n",
    "plt.ylabel(\"chi^2-statistics\", fontsize = 18)\n",
    "fig.savefig(\"statsDistribution.png\")\n",
    "fig.savefig(\"figs/statsDistribution.eps\", bbox_inches=\"tight\", pad_inches=0.05)"
   ]
  },
  {
   "cell_type": "code",
   "execution_count": null,
   "metadata": {},
   "outputs": [],
   "source": []
  }
 ],
 "metadata": {
  "kernelspec": {
   "display_name": "Python 3",
   "language": "python",
   "name": "python3"
  },
  "language_info": {
   "codemirror_mode": {
    "name": "ipython",
    "version": 3
   },
   "file_extension": ".py",
   "mimetype": "text/x-python",
   "name": "python",
   "nbconvert_exporter": "python",
   "pygments_lexer": "ipython3",
   "version": "3.8.3"
  }
 },
 "nbformat": 4,
 "nbformat_minor": 4
}
